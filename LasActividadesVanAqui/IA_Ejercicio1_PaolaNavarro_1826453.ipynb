{
  "nbformat": 4,
  "nbformat_minor": 0,
  "metadata": {
    "colab": {
      "name": "IA_Ejercicio1_PaolaNavarro_1826453",
      "provenance": [],
      "collapsed_sections": []
    },
    "kernelspec": {
      "name": "python3",
      "display_name": "Python 3"
    },
    "language_info": {
      "name": "python"
    }
  },
  "cells": [
    {
      "cell_type": "markdown",
      "metadata": {
        "id": "UB6O8ttQD5uK"
      },
      "source": [
        "Actividad 2.- Ejercicios Introducción Python\n",
        "Paola Daresi Navarro Leal\n",
        "Inteligencia Artificial - Jueves N4"
      ]
    },
    {
      "cell_type": "markdown",
      "metadata": {
        "id": "adOXJ2I-Nph-"
      },
      "source": [
        "1. Crear un programa que pregunte al usuario por su nombre, edad, una frase favorita y autor de la frase favorita. El programa deberá de imprimir un mensaje compuesto por el nombre y edad del usuario diciendo que su frase favorita es la que dió anteriormente y el autor de dicha frase es el nombre previamente dado. Aquí habrá que realizar una concatenación de variables. "
      ]
    },
    {
      "cell_type": "code",
      "metadata": {
        "colab": {
          "base_uri": "https://localhost:8080/"
        },
        "id": "K7yCfRVONr_6",
        "outputId": "c067c422-9f63-4d27-98d6-cc6dfa31aef3"
      },
      "source": [
        "#A continuación, se utiliza \"input\" para la entrada de datos requeridos\n",
        "nombre = input(\"Inserte su nombre: \")\n",
        "edad = input(\"Inserte su edad: \")\n",
        "frase = input(\"Inserte su frase favorita: \")\n",
        "autor = input(\"Inserte el nombre del autor:\")\n",
        "\n",
        "print(f\"{nombre}, {edad}. \\nFrase favorita: {frase} \\nAutor: {autor}\") #Con \"print\" se declara lo que se mostrara al final con los datos ingesados"
      ],
      "execution_count": 12,
      "outputs": [
        {
          "output_type": "stream",
          "name": "stdout",
          "text": [
            "Inserte su nombre: Paola\n",
            "Inserte su edad: 21 años\n",
            "Inserte su frase favorita: \"El respeto al derecho ajeno es la paz.\"\n",
            "Inserte el nombre del autor:Benito Juárez\n",
            "Paola, 21 años. \n",
            "Frase favorita: \"El respeto al derecho ajeno es la paz.\" \n",
            "Autor: Benito Juárez\n"
          ]
        }
      ]
    },
    {
      "cell_type": "markdown",
      "metadata": {
        "id": "SR32XkQ4SRAH"
      },
      "source": [
        "2. Crear un programa que le pida al usuario capturar dos números enteros y dos números flotantes. Después, realizará la suma, resta, multiplicación y división, de ambos pares de números. Como resultado se deberán de obtener 8 valores. Imprimir todos estos reultados."
      ]
    },
    {
      "cell_type": "code",
      "metadata": {
        "colab": {
          "base_uri": "https://localhost:8080/"
        },
        "id": "PwBhgmKXRDdg",
        "outputId": "525d2f84-4eb7-42ae-fde3-ceab7cc89aee"
      },
      "source": [
        "#Se utiliza \"input\" para la entrada de datos\n",
        "ent1 = int(input(\"Inserte 1er número entero: \")) #Se escribe \"int\" para capturar números enteros\n",
        "ent2 = int(input(\"Inserte 2do número entero: \"))\n",
        "flo1 = float(input(\"Inserte 1er número flotante: \")) #Se escribe \"float\" para capturar numeros flotantes\n",
        "flo2 = float(input(\"Inserte 2do número flotante: \"))\n",
        "\n",
        "#Se le otorga un nombre a cada cálculo y se utilizan los operadores aritméticos\n",
        "res1 = ent1 + ent2\n",
        "res2 = ent1 - ent2\n",
        "res3 = ent1 * ent2\n",
        "res4 = ent1 / ent2\n",
        "res5 = flo1 + flo2\n",
        "res6 = flo1 - flo2\n",
        "res7 = flo1 * flo2\n",
        "res8 = flo1 / flo2\n",
        "\n",
        "#Con \"print\" se declaran los resultados que se desean mostrar\n",
        "print(f\"RESULTADOS DE NÚMEROS ENTEROS\\nSuma: {res1} \\nResta: {res2} \\nMultiplicación: {res3} \\nDivisión: {res4} \\n\")\n",
        "print(f\"RESULTADOS DE NÚMEROS FLOTANTES\\nSuma: {res5} \\nResta: {res6} \\nMultiplicación: {res7} \\nDivisión: {res8}\")\n",
        "\n",
        "\n"
      ],
      "execution_count": 13,
      "outputs": [
        {
          "output_type": "stream",
          "name": "stdout",
          "text": [
            "Inserte 1er número entero: 10\n",
            "Inserte 2do número entero: 5\n",
            "Inserte 1er número flotante: 10.5\n",
            "Inserte 2do número flotante: 5.5\n",
            "RESULTADOS DE NÚMEROS ENTEROS\n",
            "Suma: 15 \n",
            "Resta: 5 \n",
            "Multiplicación: 50 \n",
            "División: 2.0 \n",
            "\n",
            "RESULTADOS DE NÚMEROS FLOTANTES\n",
            "Suma: 16.0 \n",
            "Resta: 5.0 \n",
            "Multiplicación: 57.75 \n",
            "División: 1.9090909090909092\n"
          ]
        }
      ]
    },
    {
      "cell_type": "markdown",
      "metadata": {
        "id": "l3R9VUOqYaEJ"
      },
      "source": [
        "3. Crear un programa que evalúe dos expresiones lógicas con `and`, dos con `or` y dos con `not`. Cada expresión deberá hacer uso de operadores de comparación. \n"
      ]
    },
    {
      "cell_type": "code",
      "metadata": {
        "colab": {
          "base_uri": "https://localhost:8080/"
        },
        "id": "n9QnyzcZYebk",
        "outputId": "0e386acd-4e44-4c53-bde1-e9dd6e556bb7"
      },
      "source": [
        "#Se declaran las variables\n",
        "a = 20\n",
        "b = 8\n",
        "c = 14\n",
        "d = 2\n",
        "\n",
        "#Se le otorga un nombre a cada operacion lógica, se utiliza \"and\", \"or\" y \"not\"\n",
        "res1 = ((a==c) and (b<d))\n",
        "res2 = ((a>d) and (c>b))\n",
        "res3 = ((b>d) or (c<d))\n",
        "res4 = ((b>d) or (c<a))\n",
        "res5 = not (a>d)\n",
        "res6 = not (d>c)\n",
        "\n",
        "#Se usa \"print\" para mostrar los resultados\n",
        "print(f\"RESULTADOS\\n1. {res1} \\n2. {res2} \\n3. {res3} \\n4. {res4} \\n5. {res5} \\n6. {res6}\")"
      ],
      "execution_count": 14,
      "outputs": [
        {
          "output_type": "stream",
          "name": "stdout",
          "text": [
            "RESULTADOS\n",
            "1. False \n",
            "2. True \n",
            "3. True \n",
            "4. True \n",
            "5. False \n",
            "6. True\n"
          ]
        }
      ]
    }
  ]
}
