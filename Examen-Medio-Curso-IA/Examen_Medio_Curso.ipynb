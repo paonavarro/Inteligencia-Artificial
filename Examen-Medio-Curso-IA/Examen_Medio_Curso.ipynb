{
  "nbformat": 4,
  "nbformat_minor": 0,
  "metadata": {
    "colab": {
      "name": "Examen Medio Curso",
      "provenance": []
    },
    "kernelspec": {
      "name": "python3",
      "display_name": "Python 3"
    },
    "language_info": {
      "name": "python"
    }
  },
  "cells": [
    {
      "cell_type": "markdown",
      "metadata": {
        "id": "DF_JV9neIZe4"
      },
      "source": [
        "Examen Medio Curso IA\n",
        "Paola Daresi Navarro Leal  1826453\n",
        "Jueves - N4"
      ]
    },
    {
      "cell_type": "markdown",
      "metadata": {
        "id": "K1H1cftuKIO3"
      },
      "source": [
        "1. Desarrollar un programa que, \n",
        "- Remueva los números pares de la lista:\n",
        "ex_lista = [10, 15, 17, 21, 22, 34, 37, 40, 45, 52, 66, 68, 81, 84, 91, 94, 102, 105, 109]\n",
        "- Imprima la lista después de remover los números pares."
      ]
    },
    {
      "cell_type": "code",
      "metadata": {
        "colab": {
          "base_uri": "https://localhost:8080/"
        },
        "id": "Zyc1reV34W7V",
        "outputId": "af70460a-4107-4200-c33e-c7afeb05e0fe"
      },
      "source": [
        "ex_lista = [10, 15, 17, 21, 22, 34, 37, 40, 45, 52, 66, 68, 81, 84, 91, 94, 102, 105, 109]\n",
        "\n",
        "for i in ex_lista:\n",
        "  if (i %2 == 1):\n",
        "    print(i, end = \" \")\n",
        "  "
      ],
      "execution_count": 19,
      "outputs": [
        {
          "output_type": "stream",
          "name": "stdout",
          "text": [
            "15 17 21 37 45 81 91 105 109 "
          ]
        }
      ]
    },
    {
      "cell_type": "markdown",
      "metadata": {
        "id": "xU-xlIbCKaTt"
      },
      "source": [
        "2. Desarrollar un programa que, \n",
        "- Pregunte al usuario por sus 5 películas favoritas (dato tipo string), empezando por la más favorita y terminando en la posición 5 con la menos favorita.\n",
        "- Almacene estos datos en una lista.\n",
        "- Por último, iterar sobre la lista generada para imprimir 5 oraciones (1 con cada título de película) que digan: \"La película [TÍTULO DE PELÍCULA] está en la posición [índice+1] de mi top 5\".\n",
        "- TÏTULO DE PELÍCULA: corresponte a los nombres almacenados previamente en su lista.\n",
        "- Recordatorio: Índice es la posición de un elemnto dentro de una lista."
      ]
    },
    {
      "cell_type": "code",
      "metadata": {
        "colab": {
          "base_uri": "https://localhost:8080/"
        },
        "id": "9aD6ek4NF8yV",
        "outputId": "4ef74c8d-b493-4878-945a-04bc7e9506d3"
      },
      "source": [
        "titulo_pelicula = []\n",
        "\n",
        "i = 1\n",
        "while i <= 5:\n",
        "  pelicula = input(f\"Ingrese su {i}a. pelicula favorita: \")\n",
        "  titulo_pelicula.append(pelicula)\n",
        "  i+=1\n",
        "  \n",
        "j = 1\n",
        "for j in range (0, 5):\n",
        "  print (f\"La película {titulo_pelicula[j]} está en la posición {j+1} de mi top 5.\")"
      ],
      "execution_count": 35,
      "outputs": [
        {
          "output_type": "stream",
          "name": "stdout",
          "text": [
            "Ingrese su 1a. pelicula favorita: moana\n",
            "Ingrese su 2a. pelicula favorita: bella\n",
            "Ingrese su 3a. pelicula favorita: blanca nieves\n",
            "Ingrese su 4a. pelicula favorita: cenicienta\n",
            "Ingrese su 5a. pelicula favorita: enredados\n",
            "La película moana está en la posición 1 de mi top 5.\n",
            "La película bella está en la posición 2 de mi top 5.\n",
            "La película blanca nieves está en la posición 3 de mi top 5.\n",
            "La película cenicienta está en la posición 4 de mi top 5.\n",
            "La película enredados está en la posición 5 de mi top 5.\n"
          ]
        }
      ]
    }
  ]
}